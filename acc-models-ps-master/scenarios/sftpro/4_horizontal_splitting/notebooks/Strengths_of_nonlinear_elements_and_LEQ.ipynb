{
 "cells": [
  {
   "cell_type": "code",
   "execution_count": 1,
   "metadata": {},
   "outputs": [
    {
     "name": "stdout",
     "output_type": "stream",
     "text": [
      "Version 0.03. This is the latest version.\n",
      "Please help me to improve it reporting bugs to guido.sterbini@cern.ch.\n"
     ]
    },
    {
     "name": "stderr",
     "output_type": "stream",
     "text": [
      "/eos/project/l/liu/Toolbox/myToolbox.py:24: FutureWarning: 'pandas.tseries.converter.register' has been moved and renamed to 'pandas.plotting.register_matplotlib_converters'. \n",
      "  converter.register()\n"
     ]
    },
    {
     "name": "stdout",
     "output_type": "stream",
     "text": [
      "Your platform is Linux-3.10.0-957.21.3.el7.x86_64-x86_64-with-centos-7.6.1810-Core\n",
      "Your folder is /eos/user/a/ahuschau/www/test-acc-models/repository/PS/2019/scenarios/SFTPRO/4_horizontal_splitting\n",
      "Your IP is 172.17.0.4\n",
      "2019-08-14 09:14:36\n"
     ]
    }
   ],
   "source": [
    "%run /eos/project/l/liu/Toolbox/myToolbox.py\n",
    "\n",
    "%config InlineBackend.figure_format = 'retina'\n",
    "\n",
    "plt.rcParams[\"mathtext.fontset\"] = \"cm\"\n",
    "\n",
    "import csv"
   ]
  },
  {
   "cell_type": "markdown",
   "metadata": {},
   "source": [
    "# Transfer functions (to be checked with Massimo)"
   ]
  },
  {
   "cell_type": "code",
   "execution_count": 23,
   "metadata": {},
   "outputs": [],
   "source": [
    "def normalized_gradient(current, magnet):\n",
    "    Brho = 3.3356 * 14\n",
    "\n",
    "    if 'XNO' in magnet:\n",
    "        # integrated field at peak current from NORMA\n",
    "        GL = 50\n",
    "        # peak current from NORMA\n",
    "        Ipeak = 720\n",
    "        # magnetic length from MTE design report\n",
    "        lmag = 0.195\n",
    "        # account for polarity accroding to old MAD-X description\n",
    "        polarity = -1\n",
    "        # calculate normalized sextupole gradient\n",
    "        return polarity * current * GL / Ipeak / lmag / Brho\n",
    "    elif 'ONO' in magnet:\n",
    "        # field at nominal current from NORMA\n",
    "        G = 14360\n",
    "        # nominal current from NORMA\n",
    "        Inom = 700\n",
    "        # account for polarity accroding to old MAD-X description\n",
    "        polarity = -1\n",
    "        # calculate normalized octupole gradient\n",
    "        return polarity * current * G / Inom / Brho\n",
    "    elif 'ODN' in magnet:\n",
    "        # integrated field at 100 A from MTE design report\n",
    "        GL = 433\n",
    "        # reference current\n",
    "        I = 100\n",
    "        # magnetic length from MTE design report\n",
    "        lmag = 0.22\n",
    "        # account for polarity accroding to old MAD-X description\n",
    "        polarity = -1\n",
    "        # calculate normalized octupole gradient\n",
    "        return polarity * current * GL / I / lmag / Brho    \n"
   ]
  },
  {
   "cell_type": "markdown",
   "metadata": {},
   "source": [
    "# Import of LSA settings"
   ]
  },
  {
   "cell_type": "code",
   "execution_count": 27,
   "metadata": {},
   "outputs": [],
   "source": [
    "if 1:\n",
    "    file_nonlin = './non-linear_elements_str.xlsx'\n",
    "    file_LEQ = './LEQ_str.xlsx'\n",
    "    LSA_nonlin = pnd.read_excel(file_nonlin)\n",
    "    LSA_LEQ = pnd.read_excel(file_LEQ)\n",
    "    LSA_LEQ.set_index('time', inplace = True)\n",
    "\n",
    "    t = np.arange(700, 851, 1)\n",
    "\n",
    "    MTE_elements = pnd.DataFrame(columns = ['IXNO39', 'IXNO55', 'IONO39', 'IONO55', 'IODN', 'Qx', 'kQD', 'kQF'], index = t)\n",
    "\n",
    "    # sextupoles\n",
    "    MTE_elements['IXNO39'] = np.interp(t, LSA_nonlin['XNO39'], LSA_nonlin['Unnamed: 1'])\n",
    "    MTE_elements['IXNO55'] = np.interp(t, LSA_nonlin['XNO55'], LSA_nonlin['Unnamed: 3'])\n",
    "\n",
    "    # octupoles\n",
    "    MTE_elements['IONO39'] = np.interp(t, LSA_nonlin['ONO39'], LSA_nonlin['Unnamed: 5'])\n",
    "    MTE_elements['IONO55'] = np.interp(t, LSA_nonlin['ONO55'], LSA_nonlin['Unnamed: 7'])\n",
    "    MTE_elements['IODN'] = np.interp(t, LSA_nonlin['ODN'], LSA_nonlin['Unnamed: 9'])\n",
    "\n",
    "    for q in ['Qx','kQD', 'kQF']:\n",
    "        MTE_elements[q] = LSA_LEQ[q]\n",
    "    \n",
    "    # assume that Qx = 6.25 at resonance crossing and calculate the variation along the cycle\n",
    "    MTE_elements['Qx'] = MTE_elements['Qx'] - MTE_elements['Qx'].loc[720] + 6.25\n",
    "    \n",
    "    for c in MTE_elements.columns[:-3]:\n",
    "        MTE_elements['K' + c[1:]] = MTE_elements[c].apply(lambda x: normalized_gradient(x, c))\n",
    "        \n",
    "    MTE_elements.to_pickle('Strengths_of_MTE_elements.pkl')\n",
    "else:\n",
    "    MTE_elements = pnd.read_pickle('Strengths_of_MTE_elements.pkl')"
   ]
  },
  {
   "cell_type": "code",
   "execution_count": 28,
   "metadata": {},
   "outputs": [
    {
     "data": {
      "text/html": [
       "<div>\n",
       "<style scoped>\n",
       "    .dataframe tbody tr th:only-of-type {\n",
       "        vertical-align: middle;\n",
       "    }\n",
       "\n",
       "    .dataframe tbody tr th {\n",
       "        vertical-align: top;\n",
       "    }\n",
       "\n",
       "    .dataframe thead th {\n",
       "        text-align: right;\n",
       "    }\n",
       "</style>\n",
       "<table border=\"1\" class=\"dataframe\">\n",
       "  <thead>\n",
       "    <tr style=\"text-align: right;\">\n",
       "      <th></th>\n",
       "      <th>IXNO39</th>\n",
       "      <th>IXNO55</th>\n",
       "      <th>IONO39</th>\n",
       "      <th>IONO55</th>\n",
       "      <th>IODN</th>\n",
       "      <th>Qx</th>\n",
       "      <th>kQD</th>\n",
       "      <th>kQF</th>\n",
       "      <th>KXNO39</th>\n",
       "      <th>KXNO55</th>\n",
       "      <th>KONO39</th>\n",
       "      <th>KONO55</th>\n",
       "      <th>KODN</th>\n",
       "    </tr>\n",
       "  </thead>\n",
       "  <tbody>\n",
       "    <tr>\n",
       "      <th>700</th>\n",
       "      <td>110.000002</td>\n",
       "      <td>70.0</td>\n",
       "      <td>550.0</td>\n",
       "      <td>550.0</td>\n",
       "      <td>-327.554202</td>\n",
       "      <td>6.247849</td>\n",
       "      <td>-0.000039</td>\n",
       "      <td>0.000090</td>\n",
       "      <td>-0.838868</td>\n",
       "      <td>-0.533825</td>\n",
       "      <td>-241.611215</td>\n",
       "      <td>-241.611215</td>\n",
       "      <td>138.053172</td>\n",
       "    </tr>\n",
       "    <tr>\n",
       "      <th>701</th>\n",
       "      <td>110.000002</td>\n",
       "      <td>70.0</td>\n",
       "      <td>550.0</td>\n",
       "      <td>550.0</td>\n",
       "      <td>-327.554202</td>\n",
       "      <td>6.247939</td>\n",
       "      <td>-0.000039</td>\n",
       "      <td>0.000093</td>\n",
       "      <td>-0.838868</td>\n",
       "      <td>-0.533825</td>\n",
       "      <td>-241.611215</td>\n",
       "      <td>-241.611215</td>\n",
       "      <td>138.053172</td>\n",
       "    </tr>\n",
       "    <tr>\n",
       "      <th>702</th>\n",
       "      <td>110.000002</td>\n",
       "      <td>70.0</td>\n",
       "      <td>550.0</td>\n",
       "      <td>550.0</td>\n",
       "      <td>-327.554202</td>\n",
       "      <td>6.248030</td>\n",
       "      <td>-0.000040</td>\n",
       "      <td>0.000095</td>\n",
       "      <td>-0.838868</td>\n",
       "      <td>-0.533825</td>\n",
       "      <td>-241.611215</td>\n",
       "      <td>-241.611215</td>\n",
       "      <td>138.053172</td>\n",
       "    </tr>\n",
       "    <tr>\n",
       "      <th>703</th>\n",
       "      <td>110.000002</td>\n",
       "      <td>70.0</td>\n",
       "      <td>550.0</td>\n",
       "      <td>550.0</td>\n",
       "      <td>-327.554202</td>\n",
       "      <td>6.248121</td>\n",
       "      <td>-0.000040</td>\n",
       "      <td>0.000098</td>\n",
       "      <td>-0.838868</td>\n",
       "      <td>-0.533825</td>\n",
       "      <td>-241.611215</td>\n",
       "      <td>-241.611215</td>\n",
       "      <td>138.053172</td>\n",
       "    </tr>\n",
       "    <tr>\n",
       "      <th>704</th>\n",
       "      <td>110.000002</td>\n",
       "      <td>70.0</td>\n",
       "      <td>550.0</td>\n",
       "      <td>550.0</td>\n",
       "      <td>-327.554202</td>\n",
       "      <td>6.248211</td>\n",
       "      <td>-0.000040</td>\n",
       "      <td>0.000101</td>\n",
       "      <td>-0.838868</td>\n",
       "      <td>-0.533825</td>\n",
       "      <td>-241.611215</td>\n",
       "      <td>-241.611215</td>\n",
       "      <td>138.053172</td>\n",
       "    </tr>\n",
       "  </tbody>\n",
       "</table>\n",
       "</div>"
      ],
      "text/plain": [
       "         IXNO39  IXNO55  IONO39  IONO55        IODN        Qx       kQD  \\\n",
       "700  110.000002    70.0   550.0   550.0 -327.554202  6.247849 -0.000039   \n",
       "701  110.000002    70.0   550.0   550.0 -327.554202  6.247939 -0.000039   \n",
       "702  110.000002    70.0   550.0   550.0 -327.554202  6.248030 -0.000040   \n",
       "703  110.000002    70.0   550.0   550.0 -327.554202  6.248121 -0.000040   \n",
       "704  110.000002    70.0   550.0   550.0 -327.554202  6.248211 -0.000040   \n",
       "\n",
       "          kQF    KXNO39    KXNO55      KONO39      KONO55        KODN  \n",
       "700  0.000090 -0.838868 -0.533825 -241.611215 -241.611215  138.053172  \n",
       "701  0.000093 -0.838868 -0.533825 -241.611215 -241.611215  138.053172  \n",
       "702  0.000095 -0.838868 -0.533825 -241.611215 -241.611215  138.053172  \n",
       "703  0.000098 -0.838868 -0.533825 -241.611215 -241.611215  138.053172  \n",
       "704  0.000101 -0.838868 -0.533825 -241.611215 -241.611215  138.053172  "
      ]
     },
     "execution_count": 28,
     "metadata": {},
     "output_type": "execute_result"
    }
   ],
   "source": [
    "MTE_elements.head()"
   ]
  },
  {
   "cell_type": "code",
   "execution_count": 30,
   "metadata": {},
   "outputs": [
    {
     "data": {
      "text/plain": [
       "IXNO39    110.000002\n",
       "IXNO55     70.000000\n",
       "IONO39    550.000000\n",
       "IONO55    550.000000\n",
       "IODN     -327.554202\n",
       "Qx          6.250000\n",
       "kQD        -0.000072\n",
       "kQF         0.000170\n",
       "KXNO39     -0.838868\n",
       "KXNO55     -0.533825\n",
       "KONO39   -241.611215\n",
       "KONO55   -241.611215\n",
       "KODN      138.053172\n",
       "Name: 720, dtype: float64"
      ]
     },
     "execution_count": 30,
     "metadata": {},
     "output_type": "execute_result"
    }
   ],
   "source": [
    "MTE_elements.loc[720]"
   ]
  },
  {
   "cell_type": "code",
   "execution_count": null,
   "metadata": {},
   "outputs": [],
   "source": []
  }
 ],
 "metadata": {
  "kernelspec": {
   "display_name": "Python 2",
   "language": "python",
   "name": "python2"
  },
  "language_info": {
   "codemirror_mode": {
    "name": "ipython",
    "version": 2
   },
   "file_extension": ".py",
   "mimetype": "text/x-python",
   "name": "python",
   "nbconvert_exporter": "python",
   "pygments_lexer": "ipython2",
   "version": "2.7.15"
  }
 },
 "nbformat": 4,
 "nbformat_minor": 2
}
